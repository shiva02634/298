{
  "nbformat": 4,
  "nbformat_minor": 0,
  "metadata": {
    "colab": {
      "provenance": [],
      "authorship_tag": "ABX9TyP1gGxcNjVNpZCLab9dRy2W",
      "include_colab_link": true
    },
    "kernelspec": {
      "name": "python3",
      "display_name": "Python 3"
    },
    "language_info": {
      "name": "python"
    }
  },
  "cells": [
    {
      "cell_type": "markdown",
      "metadata": {
        "id": "view-in-github",
        "colab_type": "text"
      },
      "source": [
        "<a href=\"https://colab.research.google.com/github/shiva02634/298/blob/main/Day5.ipynb\" target=\"_parent\"><img src=\"https://colab.research.google.com/assets/colab-badge.svg\" alt=\"Open In Colab\"/></a>"
      ]
    },
    {
      "cell_type": "code",
      "execution_count": 1,
      "metadata": {
        "colab": {
          "base_uri": "https://localhost:8080/"
        },
        "id": "5sBdw2rYaJ_y",
        "outputId": "a01f8df1-d9d5-431b-84c8-71789957b3a9"
      },
      "outputs": [
        {
          "output_type": "stream",
          "name": "stdout",
          "text": [
            "Enter a positive integer: 56\n",
            "\n",
            "Numbers from 1 to 56 :\n",
            "1\n",
            "2\n",
            "3\n",
            "4\n",
            "5\n",
            "6\n",
            "7\n",
            "8\n",
            "9\n",
            "10\n",
            "11\n",
            "12\n",
            "13\n",
            "14\n",
            "15\n",
            "16\n",
            "17\n",
            "18\n",
            "19\n",
            "20\n",
            "21\n",
            "22\n",
            "23\n",
            "24\n",
            "25\n",
            "26\n",
            "27\n",
            "28\n",
            "29\n",
            "30\n",
            "31\n",
            "32\n",
            "33\n",
            "34\n",
            "35\n",
            "36\n",
            "37\n",
            "38\n",
            "39\n",
            "40\n",
            "41\n",
            "42\n",
            "43\n",
            "44\n",
            "45\n",
            "46\n",
            "47\n",
            "48\n",
            "49\n",
            "50\n",
            "51\n",
            "52\n",
            "53\n",
            "54\n",
            "55\n",
            "56\n",
            "\n",
            "The sum of numbers from 1 to 56 is: 1596\n"
          ]
        }
      ],
      "source": [
        "# Part 1: Print numbers from 1 to n using a for loop\n",
        "n = int(input(\"Enter a positive integer: \"))\n",
        "\n",
        "print(\"\\nNumbers from 1 to\", n, \":\")\n",
        "for i in range(1, n + 1):\n",
        "    print(i)\n",
        "\n",
        "# Part 2: Calculate the sum of numbers from 1 to n using a while loop\n",
        "sum_numbers = 0\n",
        "counter = 1\n",
        "\n",
        "while counter <= n:\n",
        "    sum_numbers += counter\n",
        "    counter += 1\n",
        "\n",
        "print(\"\\nThe sum of numbers from 1 to\", n, \"is:\", sum_numbers)\n"
      ]
    },
    {
      "cell_type": "code",
      "source": [],
      "metadata": {
        "id": "cDbj8tr6aLTV"
      },
      "execution_count": null,
      "outputs": []
    }
  ]
}