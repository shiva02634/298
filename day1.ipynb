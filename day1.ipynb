{
  "nbformat": 4,
  "nbformat_minor": 0,
  "metadata": {
    "colab": {
      "provenance": [],
      "authorship_tag": "ABX9TyOAqq6zJuY+3D7IXAXRLcpH",
      "include_colab_link": true
    },
    "kernelspec": {
      "name": "python3",
      "display_name": "Python 3"
    },
    "language_info": {
      "name": "python"
    }
  },
  "cells": [
    {
      "cell_type": "markdown",
      "metadata": {
        "id": "view-in-github",
        "colab_type": "text"
      },
      "source": [
        "<a href=\"https://colab.research.google.com/github/shiva02634/298/blob/main/day1.ipynb\" target=\"_parent\"><img src=\"https://colab.research.google.com/assets/colab-badge.svg\" alt=\"Open In Colab\"/></a>"
      ]
    },
    {
      "cell_type": "code",
      "execution_count": 2,
      "metadata": {
        "colab": {
          "base_uri": "https://localhost:8080/"
        },
        "id": "loMb2C83LSCO",
        "outputId": "546359b8-eff9-4241-dec7-40b466c41954"
      },
      "outputs": [
        {
          "output_type": "stream",
          "name": "stdout",
          "text": [
            "Type: Integer, Value: 10, Python Type: <class 'int'>\n",
            "Type: Float, Value: 3.14, Python Type: <class 'float'>\n",
            "Type: String, Value: Hello, World!, Python Type: <class 'str'>\n",
            "Type: Boolean, Value: True, Python Type: <class 'bool'>\n",
            "Type: Complex, Value: (2+3j), Python Type: <class 'complex'>\n",
            "Type: List, Value: [1, 2, 3, 4, 5], Python Type: <class 'list'>\n",
            "Type: Tuple, Value: (6, 7, 8, 9, 10), Python Type: <class 'tuple'>\n",
            "Type: Set, Value: {11, 12, 13, 14}, Python Type: <class 'set'>\n",
            "Type: Dictionary, Value: {'a': 1, 'b': 2}, Python Type: <class 'dict'>\n",
            "Type: NoneType, Value: None, Python Type: <class 'NoneType'>\n"
          ]
        }
      ],
      "source": [
        "# Declare variables of different data types\n",
        "integer_var = 10               # Integer\n",
        "float_var = 3.14               # Float\n",
        "string_var = \"Hello, World!\"   # String\n",
        "boolean_var = True             # Boolean\n",
        "complex_var = 2 + 3j           # Complex Number\n",
        "list_var = [1, 2, 3, 4, 5]     # List\n",
        "tuple_var = (6, 7, 8, 9, 10)   # Tuple\n",
        "set_var = {11, 12, 13, 14}     # Set\n",
        "dict_var = {'a': 1, 'b': 2}    # Dictionary\n",
        "none_var = None                # NoneType\n",
        "\n",
        "# Print each variable and its type\n",
        "variables = [\n",
        "    (\"Integer\", integer_var),\n",
        "    (\"Float\", float_var),\n",
        "    (\"String\", string_var),\n",
        "    (\"Boolean\", boolean_var),\n",
        "    (\"Complex\", complex_var),\n",
        "    (\"List\", list_var),\n",
        "    (\"Tuple\", tuple_var),\n",
        "    (\"Set\", set_var),\n",
        "    (\"Dictionary\", dict_var),\n",
        "    (\"NoneType\", none_var)\n",
        "]\n",
        "\n",
        "for var_type, var_value in variables:\n",
        "    print(f\"Type: {var_type}, Value: {var_value}, Python Type: {type(var_value)}\")\n"
      ]
    },
    {
      "cell_type": "code",
      "source": [],
      "metadata": {
        "id": "6A2bQfjMLVpE"
      },
      "execution_count": null,
      "outputs": []
    }
  ]
}