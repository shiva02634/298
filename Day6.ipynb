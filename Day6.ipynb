{
  "nbformat": 4,
  "nbformat_minor": 0,
  "metadata": {
    "colab": {
      "provenance": [],
      "authorship_tag": "ABX9TyM4g1rWD83qVFaTsgcjNjdY",
      "include_colab_link": true
    },
    "kernelspec": {
      "name": "python3",
      "display_name": "Python 3"
    },
    "language_info": {
      "name": "python"
    }
  },
  "cells": [
    {
      "cell_type": "markdown",
      "metadata": {
        "id": "view-in-github",
        "colab_type": "text"
      },
      "source": [
        "<a href=\"https://colab.research.google.com/github/shiva02634/298/blob/main/Day6.ipynb\" target=\"_parent\"><img src=\"https://colab.research.google.com/assets/colab-badge.svg\" alt=\"Open In Colab\"/></a>"
      ]
    },
    {
      "cell_type": "code",
      "execution_count": 1,
      "metadata": {
        "colab": {
          "base_uri": "https://localhost:8080/"
        },
        "id": "5sBdw2rYaJ_y",
        "outputId": "a01f8df1-d9d5-431b-84c8-71789957b3a9"
      },
      "outputs": [
        {
          "output_type": "stream",
          "name": "stdout",
          "text": [
            "Enter a positive integer: 56\n",
            "\n",
            "Numbers from 1 to 56 :\n",
            "1\n",
            "2\n",
            "3\n",
            "4\n",
            "5\n",
            "6\n",
            "7\n",
            "8\n",
            "9\n",
            "10\n",
            "11\n",
            "12\n",
            "13\n",
            "14\n",
            "15\n",
            "16\n",
            "17\n",
            "18\n",
            "19\n",
            "20\n",
            "21\n",
            "22\n",
            "23\n",
            "24\n",
            "25\n",
            "26\n",
            "27\n",
            "28\n",
            "29\n",
            "30\n",
            "31\n",
            "32\n",
            "33\n",
            "34\n",
            "35\n",
            "36\n",
            "37\n",
            "38\n",
            "39\n",
            "40\n",
            "41\n",
            "42\n",
            "43\n",
            "44\n",
            "45\n",
            "46\n",
            "47\n",
            "48\n",
            "49\n",
            "50\n",
            "51\n",
            "52\n",
            "53\n",
            "54\n",
            "55\n",
            "56\n",
            "\n",
            "The sum of numbers from 1 to 56 is: 1596\n"
          ]
        }
      ],
      "source": [
        "# Part 1: Print numbers from 1 to n using a for loop\n",
        "n = int(input(\"Enter a positive integer: \"))\n",
        "\n",
        "print(\"\\nNumbers from 1 to\", n, \":\")\n",
        "for i in range(1, n + 1):\n",
        "    print(i)\n",
        "\n",
        "# Part 2: Calculate the sum of numbers from 1 to n using a while loop\n",
        "sum_numbers = 0\n",
        "counter = 1\n",
        "\n",
        "while counter <= n:\n",
        "    sum_numbers += counter\n",
        "    counter += 1\n",
        "\n",
        "print(\"\\nThe sum of numbers from 1 to\", n, \"is:\", sum_numbers)\n"
      ]
    },
    {
      "cell_type": "code",
      "source": [
        "import pandas as pd\n",
        "\n",
        "# Step 1: Create the DataFrame\n",
        "data = {\n",
        "    \"Name\": [\"John\", \"Alice\", \"Bob\", \"Diana\"],\n",
        "    \"Age\": [28, 34, 23, 29],\n",
        "    \"Department\": [\"HR\", \"IT\", \"Marketing\", \"Finance\"],\n",
        "    \"Salary\": [45000, 60000, 35000, 50000]\n",
        "}\n",
        "\n",
        "df = pd.DataFrame(data)\n",
        "\n",
        "# Step 2: Display the first 2 rows of the DataFrame\n",
        "print(\"First 2 rows of the DataFrame:\")\n",
        "print(df.head(2))\n",
        "\n",
        "# Step 3: Add a new column \"Bonus\" where the bonus is 10% of the salary\n",
        "df[\"Bonus\"] = df[\"Salary\"] * 0.10\n",
        "print(\"\\nDataFrame after adding 'Bonus' column:\")\n",
        "print(df)\n",
        "\n",
        "# Step 4: Calculate the average salary of employees\n",
        "average_salary = df[\"Salary\"].mean()\n",
        "print(f\"\\nThe average salary of employees is: {average_salary:.2f}\")\n",
        "\n",
        "# Step 5: Filter and display employees who are older than 25\n",
        "filtered_employees = df[df[\"Age\"] > 25]\n",
        "print(\"\\nEmployees who are older than 25:\")\n",
        "print(filtered_employees)\n"
      ],
      "metadata": {
        "colab": {
          "base_uri": "https://localhost:8080/"
        },
        "id": "cDbj8tr6aLTV",
        "outputId": "e8e61caf-469f-456b-d26e-8fa2a618f7a3"
      },
      "execution_count": 2,
      "outputs": [
        {
          "output_type": "stream",
          "name": "stdout",
          "text": [
            "First 2 rows of the DataFrame:\n",
            "    Name  Age Department  Salary\n",
            "0   John   28         HR   45000\n",
            "1  Alice   34         IT   60000\n",
            "\n",
            "DataFrame after adding 'Bonus' column:\n",
            "    Name  Age Department  Salary   Bonus\n",
            "0   John   28         HR   45000  4500.0\n",
            "1  Alice   34         IT   60000  6000.0\n",
            "2    Bob   23  Marketing   35000  3500.0\n",
            "3  Diana   29    Finance   50000  5000.0\n",
            "\n",
            "The average salary of employees is: 47500.00\n",
            "\n",
            "Employees who are older than 25:\n",
            "    Name  Age Department  Salary   Bonus\n",
            "0   John   28         HR   45000  4500.0\n",
            "1  Alice   34         IT   60000  6000.0\n",
            "3  Diana   29    Finance   50000  5000.0\n"
          ]
        }
      ]
    },
    {
      "cell_type": "code",
      "source": [],
      "metadata": {
        "id": "ug_OTNGFayjv"
      },
      "execution_count": null,
      "outputs": []
    }
  ]
}